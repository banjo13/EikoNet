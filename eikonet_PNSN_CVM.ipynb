{
 "cells": [
  {
   "cell_type": "code",
   "execution_count": 1,
   "id": "ff2fa3d4",
   "metadata": {},
   "outputs": [],
   "source": [
    "## Normal Python Libraries\n",
    "\n",
    "import matplotlib.pyplot as plt\n",
    "from scipy import signal\n",
    "import numpy as np\n",
    "from scipy import interpolate\n",
    "import pandas as pd\n",
    "from pyproj import Proj\n",
    "import copy\n",
    "import os\n",
    "from os import path\n",
    "from base64 import b64encode\n",
    "\n",
    "\n",
    "## Import EikoNet Libraries\n",
    "from EikoNet import model as md\n",
    "from EikoNet import database as db\n",
    "from EikoNet import plot as pt \n",
    "\n",
    "# ## Import pytorch Libraries\n",
    "\n",
    "import torch\n",
    "from torch.nn import Linear\n",
    "from torch import Tensor\n",
    "from torch.nn import MSELoss\n",
    "from torch.optim import SGD, Adam, RMSprop\n",
    "from torch.autograd import Variable, grad\n",
    "from torch.utils.data.sampler import SubsetRandomSampler,WeightedRandomSampler"
   ]
  },
  {
   "cell_type": "code",
   "execution_count": null,
   "id": "fe14e9a3",
   "metadata": {},
   "outputs": [],
   "source": [
    "xmin = [-122.77,47.46,0]\n",
    "xmax = [-122.29,47.93,50]\n",
    "projection = \"+proj=utm +zone=10, +ellps=WGS84 +datum=WGS84 +units=m +no_defs\"\n",
    "ipath = \"/Users/banjo/uw/classes/bjohnson_repo/final_project/util\"\n",
    "file = \"brem_cvm_eikonet_.csv\"\n",
    "pnsn = db.PNSN_CVM(xmin=xmin,xmax=xmax,projection=projection,phase='VP',path=ipath,file=file)\n",
    "# cvm = db.Database(ipath,pnsn,create=True,randomDist=True)"
   ]
  },
  {
   "cell_type": "code",
   "execution_count": null,
   "id": "16a73fa6",
   "metadata": {},
   "outputs": [],
   "source": [
    "# model_VP = md.Model(opath,pnsn,device='cpu')\n",
    "# model_VP.Params['Training']['Number of sample points']   = 1e4\n",
    "# model_VP.Params['Training']['Batch Size']                = 64\n",
    "# # model_VP.Params['ModelPath'] = output\n",
    "\n",
    "# model_VP.train()"
   ]
  }
 ],
 "metadata": {
  "kernelspec": {
   "display_name": "Python 3",
   "language": "python",
   "name": "python3"
  },
  "language_info": {
   "codemirror_mode": {
    "name": "ipython",
    "version": 3
   },
   "file_extension": ".py",
   "mimetype": "text/x-python",
   "name": "python",
   "nbconvert_exporter": "python",
   "pygments_lexer": "ipython3",
   "version": "3.9.2"
  }
 },
 "nbformat": 4,
 "nbformat_minor": 5
}
